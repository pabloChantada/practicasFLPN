{
 "cells": [
  {
   "cell_type": "markdown",
   "id": "5992ea75",
   "metadata": {},
   "source": [
    "### Install dependencies and load word2vec"
   ]
  },
  {
   "cell_type": "code",
   "execution_count": 1,
   "id": "83d982b8",
   "metadata": {},
   "outputs": [
    {
     "name": "stdout",
     "output_type": "stream",
     "text": [
      "Loading GoogleNews Word2Vec (300d)...\n",
      "[==================================================] 100.0% 1662.8/1662.8MB downloaded\n",
      "Model loaded!\n"
     ]
    }
   ],
   "source": [
    "import gensim.downloader as api\n",
    "print(\"Loading GoogleNews Word2Vec (300d)...\")\n",
    "word2vec = api.load(\"word2vec-google-news-300\")  # ~1.6GB\n",
    "print(\"Model loaded!\")\n"
   ]
  },
  {
   "cell_type": "markdown",
   "id": "aa34e626",
   "metadata": {},
   "source": [
    "### Get vocabulary and tokenize"
   ]
  },
  {
   "cell_type": "code",
   "execution_count": 2,
   "id": "a93fce97",
   "metadata": {},
   "outputs": [],
   "source": [
    "vocabulary = [\n",
    "    \"cat\", \"dog\", \"apple\", \"banana\", \"computer\", \"keyboard\", \"python\", \"java\", \"music\", \"punk\",\n",
    "    \"science\", \"school\", \"city\", \"vampire\", \"monster\", \"machine\", \"robot\", \"artificial\", \"intelligence\", \"network\"\n",
    "]\n",
    "word2idx = {word: idx for idx, word in enumerate(vocabulary)}\n"
   ]
  },
  {
   "cell_type": "markdown",
   "id": "fb9beab0",
   "metadata": {},
   "source": [
    "### Create embeddings matrix"
   ]
  },
  {
   "cell_type": "code",
   "execution_count": 3,
   "id": "a8c4c409",
   "metadata": {},
   "outputs": [],
   "source": [
    "import numpy as np\n",
    "\n",
    "embedding_dim = 300\n",
    "embedding_matrix = np.zeros((len(vocabulary), embedding_dim))\n",
    "\n",
    "for word, idx in word2idx.items():\n",
    "    if word in word2vec:\n",
    "        embedding_matrix[idx] = word2vec[word]\n",
    "    else:\n",
    "        embedding_matrix[idx] = np.random.normal(scale=0.6, size=(embedding_dim,))  # OOV handling"
   ]
  },
  {
   "cell_type": "markdown",
   "id": "43a06684",
   "metadata": {},
   "source": [
    "### Build Keras embeddings and create model"
   ]
  },
  {
   "cell_type": "code",
   "execution_count": 4,
   "id": "5a63febb",
   "metadata": {},
   "outputs": [
    {
     "name": "stderr",
     "output_type": "stream",
     "text": [
      "2025-04-09 09:21:14.349470: I tensorflow/core/util/port.cc:153] oneDNN custom operations are on. You may see slightly different numerical results due to floating-point round-off errors from different computation orders. To turn them off, set the environment variable `TF_ENABLE_ONEDNN_OPTS=0`.\n",
      "2025-04-09 09:21:14.639289: E external/local_xla/xla/stream_executor/cuda/cuda_fft.cc:477] Unable to register cuFFT factory: Attempting to register factory for plugin cuFFT when one has already been registered\n",
      "WARNING: All log messages before absl::InitializeLog() is called are written to STDERR\n",
      "E0000 00:00:1744183274.744855    2064 cuda_dnn.cc:8310] Unable to register cuDNN factory: Attempting to register factory for plugin cuDNN when one has already been registered\n",
      "E0000 00:00:1744183274.774549    2064 cuda_blas.cc:1418] Unable to register cuBLAS factory: Attempting to register factory for plugin cuBLAS when one has already been registered\n",
      "2025-04-09 09:21:15.025917: I tensorflow/core/platform/cpu_feature_guard.cc:210] This TensorFlow binary is optimized to use available CPU instructions in performance-critical operations.\n",
      "To enable the following instructions: AVX2 AVX_VNNI FMA, in other operations, rebuild TensorFlow with the appropriate compiler flags.\n",
      "I0000 00:00:1744183278.850722    2064 gpu_device.cc:2022] Created device /job:localhost/replica:0/task:0/device:GPU:0 with 5563 MB memory:  -> device: 0, name: NVIDIA GeForce RTX 4060 Laptop GPU, pci bus id: 0000:01:00.0, compute capability: 8.9\n"
     ]
    },
    {
     "data": {
      "text/html": [
       "<pre style=\"white-space:pre;overflow-x:auto;line-height:normal;font-family:Menlo,'DejaVu Sans Mono',consolas,'Courier New',monospace\"><span style=\"font-weight: bold\">Model: \"sequential\"</span>\n",
       "</pre>\n"
      ],
      "text/plain": [
       "\u001b[1mModel: \"sequential\"\u001b[0m\n"
      ]
     },
     "metadata": {},
     "output_type": "display_data"
    },
    {
     "data": {
      "text/html": [
       "<pre style=\"white-space:pre;overflow-x:auto;line-height:normal;font-family:Menlo,'DejaVu Sans Mono',consolas,'Courier New',monospace\">┏━━━━━━━━━━━━━━━━━━━━━━━━━━━━━━━━━┳━━━━━━━━━━━━━━━━━━━━━━━━┳━━━━━━━━━━━━━━━┓\n",
       "┃<span style=\"font-weight: bold\"> Layer (type)                    </span>┃<span style=\"font-weight: bold\"> Output Shape           </span>┃<span style=\"font-weight: bold\">       Param # </span>┃\n",
       "┡━━━━━━━━━━━━━━━━━━━━━━━━━━━━━━━━━╇━━━━━━━━━━━━━━━━━━━━━━━━╇━━━━━━━━━━━━━━━┩\n",
       "│ embedding (<span style=\"color: #0087ff; text-decoration-color: #0087ff\">Embedding</span>)           │ (<span style=\"color: #00d7ff; text-decoration-color: #00d7ff\">None</span>, <span style=\"color: #00d7ff; text-decoration-color: #00d7ff\">None</span>, <span style=\"color: #00af00; text-decoration-color: #00af00\">300</span>)      │         <span style=\"color: #00af00; text-decoration-color: #00af00\">6,000</span> │\n",
       "├─────────────────────────────────┼────────────────────────┼───────────────┤\n",
       "│ global_average_pooling1d        │ (<span style=\"color: #00d7ff; text-decoration-color: #00d7ff\">None</span>, <span style=\"color: #00af00; text-decoration-color: #00af00\">300</span>)            │             <span style=\"color: #00af00; text-decoration-color: #00af00\">0</span> │\n",
       "│ (<span style=\"color: #0087ff; text-decoration-color: #0087ff\">GlobalAveragePooling1D</span>)        │                        │               │\n",
       "├─────────────────────────────────┼────────────────────────┼───────────────┤\n",
       "│ dense (<span style=\"color: #0087ff; text-decoration-color: #0087ff\">Dense</span>)                   │ (<span style=\"color: #00d7ff; text-decoration-color: #00d7ff\">None</span>, <span style=\"color: #00af00; text-decoration-color: #00af00\">1</span>)              │           <span style=\"color: #00af00; text-decoration-color: #00af00\">301</span> │\n",
       "└─────────────────────────────────┴────────────────────────┴───────────────┘\n",
       "</pre>\n"
      ],
      "text/plain": [
       "┏━━━━━━━━━━━━━━━━━━━━━━━━━━━━━━━━━┳━━━━━━━━━━━━━━━━━━━━━━━━┳━━━━━━━━━━━━━━━┓\n",
       "┃\u001b[1m \u001b[0m\u001b[1mLayer (type)                   \u001b[0m\u001b[1m \u001b[0m┃\u001b[1m \u001b[0m\u001b[1mOutput Shape          \u001b[0m\u001b[1m \u001b[0m┃\u001b[1m \u001b[0m\u001b[1m      Param #\u001b[0m\u001b[1m \u001b[0m┃\n",
       "┡━━━━━━━━━━━━━━━━━━━━━━━━━━━━━━━━━╇━━━━━━━━━━━━━━━━━━━━━━━━╇━━━━━━━━━━━━━━━┩\n",
       "│ embedding (\u001b[38;5;33mEmbedding\u001b[0m)           │ (\u001b[38;5;45mNone\u001b[0m, \u001b[38;5;45mNone\u001b[0m, \u001b[38;5;34m300\u001b[0m)      │         \u001b[38;5;34m6,000\u001b[0m │\n",
       "├─────────────────────────────────┼────────────────────────┼───────────────┤\n",
       "│ global_average_pooling1d        │ (\u001b[38;5;45mNone\u001b[0m, \u001b[38;5;34m300\u001b[0m)            │             \u001b[38;5;34m0\u001b[0m │\n",
       "│ (\u001b[38;5;33mGlobalAveragePooling1D\u001b[0m)        │                        │               │\n",
       "├─────────────────────────────────┼────────────────────────┼───────────────┤\n",
       "│ dense (\u001b[38;5;33mDense\u001b[0m)                   │ (\u001b[38;5;45mNone\u001b[0m, \u001b[38;5;34m1\u001b[0m)              │           \u001b[38;5;34m301\u001b[0m │\n",
       "└─────────────────────────────────┴────────────────────────┴───────────────┘\n"
      ]
     },
     "metadata": {},
     "output_type": "display_data"
    },
    {
     "data": {
      "text/html": [
       "<pre style=\"white-space:pre;overflow-x:auto;line-height:normal;font-family:Menlo,'DejaVu Sans Mono',consolas,'Courier New',monospace\"><span style=\"font-weight: bold\"> Total params: </span><span style=\"color: #00af00; text-decoration-color: #00af00\">6,301</span> (24.61 KB)\n",
       "</pre>\n"
      ],
      "text/plain": [
       "\u001b[1m Total params: \u001b[0m\u001b[38;5;34m6,301\u001b[0m (24.61 KB)\n"
      ]
     },
     "metadata": {},
     "output_type": "display_data"
    },
    {
     "data": {
      "text/html": [
       "<pre style=\"white-space:pre;overflow-x:auto;line-height:normal;font-family:Menlo,'DejaVu Sans Mono',consolas,'Courier New',monospace\"><span style=\"font-weight: bold\"> Trainable params: </span><span style=\"color: #00af00; text-decoration-color: #00af00\">301</span> (1.18 KB)\n",
       "</pre>\n"
      ],
      "text/plain": [
       "\u001b[1m Trainable params: \u001b[0m\u001b[38;5;34m301\u001b[0m (1.18 KB)\n"
      ]
     },
     "metadata": {},
     "output_type": "display_data"
    },
    {
     "data": {
      "text/html": [
       "<pre style=\"white-space:pre;overflow-x:auto;line-height:normal;font-family:Menlo,'DejaVu Sans Mono',consolas,'Courier New',monospace\"><span style=\"font-weight: bold\"> Non-trainable params: </span><span style=\"color: #00af00; text-decoration-color: #00af00\">6,000</span> (23.44 KB)\n",
       "</pre>\n"
      ],
      "text/plain": [
       "\u001b[1m Non-trainable params: \u001b[0m\u001b[38;5;34m6,000\u001b[0m (23.44 KB)\n"
      ]
     },
     "metadata": {},
     "output_type": "display_data"
    }
   ],
   "source": [
    "import tensorflow as tf\n",
    "\n",
    "embedding_layer = tf.keras.layers.Embedding(\n",
    "    input_dim=len(vocabulary),\n",
    "    output_dim=embedding_dim,\n",
    "    weights=[embedding_matrix],\n",
    "    trainable=False  # Set to True to fine-tune embeddings\n",
    ")\n",
    "\n",
    "model = tf.keras.Sequential([\n",
    "    tf.keras.layers.Input(shape=(None,), dtype='int32'),\n",
    "    embedding_layer,\n",
    "    tf.keras.layers.GlobalAveragePooling1D(),\n",
    "    tf.keras.layers.Dense(1, activation='sigmoid')\n",
    "])\n",
    "\n",
    "model.compile(optimizer='adam', loss='binary_crossentropy')\n",
    "model.summary()"
   ]
  },
  {
   "cell_type": "markdown",
   "id": "813f5737",
   "metadata": {},
   "source": [
    "### Test it"
   ]
  },
  {
   "cell_type": "code",
   "execution_count": 5,
   "id": "b70423ee",
   "metadata": {},
   "outputs": [
    {
     "name": "stdout",
     "output_type": "stream",
     "text": [
      "Model output: [[0.4351716]]\n"
     ]
    }
   ],
   "source": [
    "test_sentence = [\"cat\", \"loves\", \"banana\", \"and\", \"robot\"]\n",
    "input_indices = [word2idx.get(word, 0) for word in test_sentence]  # fallback to index 0 for OOV\n",
    "input_padded = tf.keras.preprocessing.sequence.pad_sequences([input_indices], maxlen=10)\n",
    "\n",
    "output = model(input_padded)\n",
    "print(\"Model output:\", output.numpy())"
   ]
  },
  {
   "cell_type": "code",
   "execution_count": 6,
   "id": "18941464",
   "metadata": {},
   "outputs": [
    {
     "name": "stdout",
     "output_type": "stream",
     "text": [
      "Embedding for 'robot':\n",
      "[-4.29687500e-02  1.02050781e-01 -4.17480469e-02  3.36914062e-02\n",
      " -4.27246094e-02 -8.54492188e-03  9.37500000e-02  1.10839844e-01\n",
      "  6.73828125e-02 -4.55078125e-01 -1.37939453e-02  6.34765625e-02\n",
      "  1.68945312e-01 -1.78710938e-01  1.53808594e-02  1.21093750e-01\n",
      " -2.34375000e-01 -2.36511230e-03  2.07519531e-02 -1.88476562e-01\n",
      "  1.71875000e-01  9.81445312e-02 -4.32128906e-02  1.24511719e-01\n",
      " -1.43554688e-01  5.54199219e-02 -1.50390625e-01  6.98242188e-02\n",
      "  1.68457031e-02 -1.02539062e-01 -1.10839844e-01 -2.81250000e-01\n",
      " -1.92382812e-01  1.54418945e-02 -2.58789062e-02 -2.41210938e-01\n",
      " -3.63769531e-02  2.50000000e-01 -1.44653320e-02 -3.19824219e-02\n",
      "  4.33349609e-03 -1.89453125e-01  1.70898438e-01  4.96093750e-01\n",
      " -9.08203125e-02 -1.52343750e-01  4.58984375e-02  1.37695312e-01\n",
      "  3.35937500e-01 -1.01562500e-01 -3.69140625e-01 -2.23388672e-02\n",
      "  2.22167969e-02 -8.20312500e-02 -9.22851562e-02 -1.34277344e-02\n",
      "  4.04296875e-01 -1.94335938e-01  2.81250000e-01  1.38671875e-01\n",
      " -6.59179688e-02 -4.32128906e-02  1.28173828e-02  1.10351562e-01\n",
      " -3.41796875e-01 -2.29492188e-01 -1.37695312e-01  3.49426270e-03\n",
      " -4.93164062e-02  1.37695312e-01 -1.91650391e-02 -6.25000000e-02\n",
      " -1.79687500e-01 -1.51367188e-01  8.25195312e-02 -3.66210938e-02\n",
      "  9.32617188e-02 -6.34765625e-02 -6.25000000e-02 -4.06250000e-01\n",
      "  3.33984375e-01  1.67968750e-01 -2.25585938e-01 -1.68945312e-01\n",
      " -1.92382812e-01 -2.02148438e-01 -1.74560547e-02  2.38281250e-01\n",
      "  1.26953125e-01  3.98437500e-01 -7.71484375e-02 -7.61718750e-02\n",
      " -3.67187500e-01  2.18505859e-02  2.08984375e-01  1.77734375e-01\n",
      "  1.67968750e-01 -1.53320312e-01  3.97949219e-02  3.81469727e-03\n",
      "  1.73828125e-01 -2.75390625e-01 -6.93359375e-02 -1.25000000e-01\n",
      "  2.71484375e-01  1.91406250e-01 -1.90429688e-01 -1.28906250e-01\n",
      "  2.38281250e-01  2.46093750e-01  6.54296875e-02 -1.60156250e-01\n",
      "  1.13281250e-01  1.20605469e-01 -7.23266602e-03  8.34960938e-02\n",
      " -2.87109375e-01 -1.84570312e-01  1.82617188e-01 -2.12890625e-01\n",
      " -2.34375000e-01 -2.38281250e-01 -2.51953125e-01  4.85839844e-02\n",
      " -5.07812500e-02  9.52148438e-02 -2.27539062e-01 -1.64062500e-01\n",
      "  2.47070312e-01  3.54003906e-02 -4.46777344e-02 -2.90527344e-02\n",
      " -4.72656250e-01 -4.98046875e-02 -4.44335938e-02  1.49414062e-01\n",
      "  1.91406250e-01 -1.73339844e-02  1.17492676e-03  7.12890625e-02\n",
      "  1.35742188e-01 -1.68945312e-01 -2.74658203e-02  3.16406250e-01\n",
      " -1.28906250e-01  8.69140625e-02 -1.44531250e-01 -5.51757812e-02\n",
      "  5.29785156e-02 -3.66210938e-02 -1.91650391e-02 -2.29492188e-01\n",
      " -1.83593750e-01  2.03125000e-01 -9.22851562e-02  1.46484375e-01\n",
      " -2.81250000e-01 -1.14257812e-01 -2.61230469e-02 -6.44531250e-02\n",
      "  1.25976562e-01  3.04687500e-01  3.78417969e-02 -2.22656250e-01\n",
      " -6.29882812e-02 -3.78906250e-01  5.58593750e-01  6.59179688e-02\n",
      " -2.44140625e-01  1.50390625e-01  1.97753906e-02 -8.98437500e-02\n",
      " -8.49609375e-02  2.42187500e-01 -2.71484375e-01 -2.36328125e-01\n",
      " -5.12695312e-02  1.30859375e-01 -2.09960938e-01  1.17675781e-01\n",
      "  1.03515625e-01 -2.71484375e-01 -4.95605469e-02 -1.77734375e-01\n",
      "  4.71191406e-02  1.65039062e-01  7.27539062e-02  8.60595703e-03\n",
      " -2.43164062e-01 -1.07910156e-01 -2.25585938e-01  3.30078125e-01\n",
      "  6.25000000e-02  1.13281250e-01 -1.93359375e-01 -1.59912109e-02\n",
      " -4.73632812e-02 -3.10546875e-01 -1.95312500e-01 -8.39843750e-02\n",
      " -9.42382812e-02 -2.08984375e-01 -2.59765625e-01  2.89062500e-01\n",
      " -3.04687500e-01 -3.45703125e-01  7.37304688e-02 -1.79687500e-01\n",
      " -1.40625000e-01 -2.47070312e-01 -6.54296875e-02 -8.91113281e-03\n",
      " -1.76757812e-01 -4.17480469e-02 -1.02050781e-01 -1.59179688e-01\n",
      "  2.51464844e-02 -7.51953125e-02 -3.45703125e-01  1.23046875e-01\n",
      " -1.80664062e-02 -5.61523438e-02  1.95312500e-01 -3.49609375e-01\n",
      " -2.75390625e-01 -1.44531250e-01 -2.61718750e-01 -1.21459961e-02\n",
      "  2.91015625e-01 -2.61718750e-01  1.72851562e-01 -3.45703125e-01\n",
      " -1.22070312e-01  6.98242188e-02  1.90429688e-01  5.90820312e-02\n",
      " -3.88671875e-01 -1.25000000e-01  3.55468750e-01  6.78710938e-02\n",
      "  3.76953125e-01 -4.07695770e-05 -3.65234375e-01 -1.55639648e-03\n",
      " -1.10839844e-01 -4.11987305e-03  1.22070312e-02 -4.88281250e-02\n",
      "  4.85839844e-02 -4.39453125e-01 -3.43750000e-01 -2.85156250e-01\n",
      "  4.64843750e-01  1.43554688e-01 -3.14331055e-03 -2.87109375e-01\n",
      "  2.05078125e-01 -3.20312500e-01 -1.05468750e-01 -1.07910156e-01\n",
      "  1.67236328e-02 -1.78710938e-01 -2.96875000e-01 -2.55126953e-02\n",
      "  1.23046875e-01  7.42187500e-02 -7.42187500e-02 -2.09960938e-01\n",
      " -2.16064453e-02  3.16406250e-01  3.56445312e-02  2.18505859e-02\n",
      "  2.22656250e-01  5.51757812e-02  1.39648438e-01 -4.66796875e-01\n",
      " -2.55859375e-01  1.39648438e-01  2.11914062e-01  2.35595703e-02\n",
      "  6.15234375e-02  2.91015625e-01  1.54296875e-01  2.10937500e-01\n",
      "  2.30468750e-01 -6.00585938e-02 -1.26953125e-01 -3.08593750e-01\n",
      "  1.90429688e-01  2.55859375e-01 -6.09375000e-01  2.83203125e-01\n",
      " -4.29687500e-01 -2.87109375e-01 -1.32812500e-01 -3.35937500e-01\n",
      " -7.22656250e-02 -1.98974609e-02 -4.17968750e-01  4.29687500e-02]\n",
      "Shape: (300,)\n"
     ]
    }
   ],
   "source": [
    "word = \"robot\"\n",
    "word_index = word2idx[word]  # get index in embedding matrix\n",
    "embedding_vector = embedding_layer(tf.constant([word_index]))  # shape: (1, embedding_dim)\n",
    "embedding_vector = embedding_vector.numpy().squeeze()\n",
    "\n",
    "print(f\"Embedding for '{word}':\")\n",
    "print(embedding_vector)\n",
    "print(\"Shape:\", embedding_vector.shape)"
   ]
  }
 ],
 "metadata": {
  "kernelspec": {
   "display_name": "tf",
   "language": "python",
   "name": "python3"
  },
  "language_info": {
   "codemirror_mode": {
    "name": "ipython",
    "version": 3
   },
   "file_extension": ".py",
   "mimetype": "text/x-python",
   "name": "python",
   "nbconvert_exporter": "python",
   "pygments_lexer": "ipython3",
   "version": "3.12.7"
  }
 },
 "nbformat": 4,
 "nbformat_minor": 5
}
