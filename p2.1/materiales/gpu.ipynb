{
 "cells": [
  {
   "cell_type": "markdown",
   "metadata": {
    "id": "h4o_INDOLM8j"
   },
   "source": [
    "# **How to set GPU suppport in Colab**\n",
    "\n",
    "Go to Edit -> Notebook Settings -> Hardware accelerator (set GPU or TPU)\n"
   ]
  },
  {
   "cell_type": "code",
   "execution_count": null,
   "metadata": {
    "colab": {
     "base_uri": "https://localhost:8080/"
    },
    "executionInfo": {
     "elapsed": 1338,
     "status": "ok",
     "timestamp": 1710693602613,
     "user": {
      "displayName": "David V",
      "userId": "14796473427498895857"
     },
     "user_tz": -60
    },
    "id": "NSXKIlMNIz5l",
    "outputId": "4a83203d-4cc7-4bdd-e243-adef4c8ad947"
   },
   "outputs": [
    {
     "name": "stdout",
     "output_type": "stream",
     "text": [
      "Current TensorFlow version:  2.13.1\n",
      "Available resources:  [name: \"/device:CPU:0\"\n",
      "device_type: \"CPU\"\n",
      "memory_limit: 268435456\n",
      "locality {\n",
      "}\n",
      "incarnation: 3094078465504647134\n",
      "xla_global_id: -1\n",
      "]\n"
     ]
    }
   ],
   "source": [
    "import tensorflow as tf\n",
    "from tensorflow.python.client import device_lib\n",
    "\n",
    "print(\"Current TensorFlow version: \", tf.__version__)\n",
    "print(\"Available resources: \", device_lib.list_local_devices())\n",
    "print(tf.test.is_gpu_available())"
   ]
  }
 ],
 "metadata": {
  "accelerator": "GPU",
  "colab": {
   "authorship_tag": "ABX9TyN0pUfqEpVnJrF7Y6dePRLz",
   "provenance": []
  },
  "kernelspec": {
   "display_name": "Python 3",
   "name": "python3"
  },
  "language_info": {
   "codemirror_mode": {
    "name": "ipython",
    "version": 3
   },
   "file_extension": ".py",
   "mimetype": "text/x-python",
   "name": "python",
   "nbconvert_exporter": "python",
   "pygments_lexer": "ipython3",
   "version": "3.9.13"
  }
 },
 "nbformat": 4,
 "nbformat_minor": 0
}
